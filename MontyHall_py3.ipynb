{
 "cells": [
  {
   "cell_type": "markdown",
   "metadata": {},
   "source": [
    "## The Monty Hall Problem\n",
    "\n",
    "The Monty Hall problem is a puzzle loosely based on the TV game show *Let's Make a Deal* and seems to be counterintuitive for many people.  The problem setup is straightforward enough:  Suppose you are a contestant in a game show, and the host Monty Hall shows you 3 doors.  One of the doors has a prize behind it and the other 2 doors have goats behind them.  Monty tells you to pick a door.  After you've picked a door, Monty does something gnarly:  He opens one of the 2 remaining doors and reveals a goat.  Then he asks you if you want to switch doors or stick with your remaining choice.  Obviously we are assuming that you would rather have the prize and not the goat.  The question is:  Should you switch or not?\n",
    "\n",
    "Many people think that it doesn't matter whether you switch or not, and they reason that there should be an equal probability ($\\,=\\frac{1}{2}$) that the prize is behind the door you chose versus the door that Monty Hall didn't open.  In fact, the optimal solution is to always switch doors.  Switching doors give you a $\\frac{2}{3}$ probability of getting the prize, while not switching gives you a $\\frac{1}{3}$ probability.  This tends to surprise people, and some people will even refuse to accept that switching is the best strategy.  There seem to be some [interesting psychological reasons](http://www.diss.fu-berlin.de/diss/servlets/MCRFileNodeServlet/FUDISS_derivate_000000001141/04_chap2.pdf) for this.\n",
    "\n",
    "But I don't want to get into the psychology of the Monty Hall problem.  I want to first give a brief explanation of why the optimal strategy is switching, then I want to code up the problem using Python and simulate lots and lots of Monty Hall games (say, 100000 games).  By this we can estimate the true probability of winning the prize by always switching and we will see that the proportion of wins will be very close to $\\frac{2}{3}$ with the switching strategy and $\\frac{1}{3}$ otherwise.  Many other people have simulated the Monty Hall game as well.  Here is a [YouTube video](https://www.youtube.com/watch?v=nwpqkb92GYw&feature=youtu.be) that describes a nice objected-oriented approach, where they model the problem with a Python class.\n",
    "\n",
    "After running the simulation, I want to give a proof of the Monty Hall problem using a bit of probability theory.  The proof is not new, and is similar to the one using Bayes' theorem on the [wikipedia page](https://en.wikipedia.org/wiki/Monty_Hall_problem).\n",
    "\n",
    "### 1. An intuitive explanation\n",
    "\n",
    "First let's give a relatively simple explanation why the optimal strategy in the Monty Hall problem is always switching from the intitial guess.  The steps in the problem are as follows:\n",
    "1. The contestant chooses a door randomly.\n",
    "2. Monty Hall opens one of the remaining 2 doors and reveals a goat and not the prize.  \n",
    "3. The contestant is given the choice whether to switch doors or stay with their original guess.\n",
    "\n",
    "\n",
    "#### Case 1:  The contestant initially chooses the door with the prize ( probability = 1/3 )\n",
    "- In this case the 2 remaining doors both have goats, so Monty will pick one of them and reveal a goat.  If the contestant switches, they don't win the prize.  If they stick with their original guess, then they do win the prize.  So in this case it's better not to switch, *but this only happens with probability 1/3*.\n",
    "\n",
    "#### Case 2:  The contestant initially chooses the door with a goat ( probability = 2/3 )\n",
    "- In this case, one of the remaining doors has a goat and one of them has the prize.  *Monty must open the door with the goat, so in this case we are certain that the prize is behind the remaining door*.  Therefore, if the contestant switches, they win the prize.  If they don't switch, they don't win the prize.  This always happens with probability $\\frac{2}{3}$, so it is always better to switch the initial guess.  \n",
    "\n",
    "In the long run (after playing many Monty Hall games), we should expect that switching the initial guess will lead to the contestants winning prize approximately 2/3 of the time (~ 67%), and those who don't switch should win the prize approximately 1/3 of the time (~ 33%).  This is a consequence of the [law of large numbers](https://en.wikipedia.org/wiki/Law_of_large_numbers).  Let's simulate this now.\n",
    "\n",
    "### 2.  Simulating the Monty Hall games\n",
    "\n",
    "(more explanation to follow...)"
   ]
  },
  {
   "cell_type": "code",
   "execution_count": 1,
   "metadata": {
    "collapsed": true
   },
   "outputs": [],
   "source": [
    "import numpy as np\n",
    "import random"
   ]
  },
  {
   "cell_type": "code",
   "execution_count": 2,
   "metadata": {},
   "outputs": [],
   "source": [
    "def prizedoor(n):\n",
    "    '''Given a positive integer n, return a random array of length n\n",
    "    where each entry is either 0, 1, or 2 representing a hidden \n",
    "    prize behind door 0, 1, or 2.  Run n simulations of the prizedoor.'''\n",
    "    \n",
    "    return np.random.randint(3, size = n)\n",
    "\n",
    "def initial_guess(n):\n",
    "    '''This function also returns a random array of length n consisting\n",
    "    of 0s, 1s, and 2s representing n simulations of contestants guessing\n",
    "    a door randomly.'''\n",
    "    \n",
    "    return np.random.randint(3, size = n)\n"
   ]
  },
  {
   "cell_type": "markdown",
   "metadata": {},
   "source": [
    "Goat door"
   ]
  },
  {
   "cell_type": "code",
   "execution_count": 3,
   "metadata": {
    "collapsed": true
   },
   "outputs": [],
   "source": [
    "def goatdoor(prizedoors, guesses):\n",
    "    '''This function simulates opening a \"goat door\" for each prize door\n",
    "    and each guess.  The goat door should not be the prize door and should \n",
    "    be different from the contestant's guess.  Returns an array of goatdoors\n",
    "    for n Monty Hall games.'''\n",
    "    \n",
    "    goatdoors = []\n",
    "    # loop over all pairs of prizedoors and guesses\n",
    "    for pair in zip(prizedoors, guesses):\n",
    "        if pair[0] == pair[1]:\n",
    "            # if the contestant guesses the prizedoor, Monty randomly picks one of the two remaining doors \n",
    "            other_doors = [ d for d in [0,1,2] if d != pair[0] ]\n",
    "            goatdoors.append( random.choice(other_doors) )\n",
    "        else:\n",
    "            # if the guess is different from the prizedoor, Monty picks the one remaining door\n",
    "            other_door = [ d for d in [0,1,2] if d not in (pair[0], pair[1]) ]\n",
    "            goatdoors.append( other_door[0] )\n",
    "        \n",
    "    return np.array(goatdoors)"
   ]
  },
  {
   "cell_type": "markdown",
   "metadata": {},
   "source": [
    "Switch guess"
   ]
  },
  {
   "cell_type": "code",
   "execution_count": 4,
   "metadata": {
    "collapsed": true
   },
   "outputs": [],
   "source": [
    "def switch_guess(guesses, goatdoors):\n",
    "    '''This function implements the strategy of always switching\n",
    "    a guess after a goat door is opened.  Returns an array of length\n",
    "    n representing the contestants switching doors in n Monty Hall games.'''\n",
    "    \n",
    "    switches = []\n",
    "    # loop over all pairs of guesses and goatdoors\n",
    "    for pair in zip(guesses, goatdoors):\n",
    "        # the contestant only has one choice of door to switch to after the goatdoor is opened\n",
    "        switch_door = [ d for d in [0,1,2] if d not in (pair[0], pair[1]) ]\n",
    "        switches.append( switch_door[0] )\n",
    "        \n",
    "    return np.array(switches)\n",
    "    "
   ]
  },
  {
   "cell_type": "markdown",
   "metadata": {},
   "source": [
    "Now let's simulate the game both with the strategy of switching and without the strategy of switching"
   ]
  },
  {
   "cell_type": "code",
   "execution_count": 5,
   "metadata": {},
   "outputs": [
    {
     "name": "stdout",
     "output_type": "stream",
     "text": [
      "Monty Hall simulations with switching the initial guess: \n",
      "  Number of games:  100000\n",
      "  Number of wins:   66464\n",
      "  Win Percentage:   66.46%\n",
      "\n",
      "Monty Hall simulations with not switching the initial guess: \n",
      "  Number of games:  100000\n",
      "  Number of wins:   33370\n",
      "  Win Percentage:   33.37%\n"
     ]
    }
   ],
   "source": [
    "def run_monty(n, switch=True):\n",
    "    '''Simulate n Monty Hall games.  The default value of switch\n",
    "    represents the contestants always switching their initial guess.\n",
    "    Set switch=False to simulate the contestants not switching.'''\n",
    "    \n",
    "    prizedoors = prizedoor(n)\n",
    "    guesses = initial_guess(n)\n",
    "    goatdoors = goatdoor(prizedoors, guesses)\n",
    "    if switch:\n",
    "        contestantdoors = switch_guess(guesses, goatdoors)\n",
    "    else:\n",
    "        contestantdoors = guesses\n",
    "        \n",
    "    wins = 0\n",
    "    # loop over all pairs of prizedoors and contestantdoors\n",
    "    for pair in zip(prizedoors, contestantdoors):\n",
    "        # if a prizedoor is the same as the corresponding contestantdoor, then\n",
    "        # the contestant wins\n",
    "        if pair[0] == pair[1]:\n",
    "            wins += 1\n",
    "            \n",
    "    # print the relevant stats\n",
    "    print('  Number of games: ', n)\n",
    "    print('  Number of wins:  ', wins)\n",
    "    print('  Win Percentage:   %.2f% %' % round(100 * wins / n, 2) )\n",
    "\n",
    "print('Monty Hall simulations with switching the initial guess: ')\n",
    "run_monty(100000, switch=True)\n",
    "print()\n",
    "print('Monty Hall simulations with not switching the initial guess: ')\n",
    "run_monty(100000, switch=False)"
   ]
  },
  {
   "cell_type": "markdown",
   "metadata": {
    "collapsed": true
   },
   "source": [
    "### 3.  A mathematical proof\n",
    "\n",
    "..."
   ]
  },
  {
   "cell_type": "code",
   "execution_count": null,
   "metadata": {
    "collapsed": true
   },
   "outputs": [],
   "source": []
  }
 ],
 "metadata": {
  "kernelspec": {
   "display_name": "Python 3",
   "language": "python",
   "name": "python3"
  },
  "language_info": {
   "codemirror_mode": {
    "name": "ipython",
    "version": 3
   },
   "file_extension": ".py",
   "mimetype": "text/x-python",
   "name": "python",
   "nbconvert_exporter": "python",
   "pygments_lexer": "ipython3",
   "version": "3.6.1"
  }
 },
 "nbformat": 4,
 "nbformat_minor": 2
}
