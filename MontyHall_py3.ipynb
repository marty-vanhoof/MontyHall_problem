{
 "cells": [
  {
   "cell_type": "markdown",
   "metadata": {},
   "source": [
    "## The Monty Hall Problem\n",
    "\n",
    "The Monty Hall problem is a puzzle loosely based on the TV game show *Let's Make a Deal* and seems to be counterintuitive for many people.  The problem setup is straightforward enough:  Suppose you are a contestant in a game show, and the host Monty Hall shows you 3 doors.  One of the doors has a prize behind it and the other 2 doors have goats behind them.  Monty tells you to pick a door.  After you've picked a door, Monty does something gnarly:  He opens one of the 2 remaining doors and reveals a goat.  Then he asks you if you want to switch doors or stick with your remaining choice.  Obviously we are assuming that you would rather have the prize and not the goat.  The question is:  Should you switch or not?\n",
    "\n",
    "Many people think that it doesn't matter whether you switch or not, and they reason that there should be an equal probability ($\\,=\\frac{1}{2}$) that the prize is behind the door you chose versus the door that Monty Hall didn't open.  In fact, the optimal solution is to always switch doors.  Switching doors give you a $\\frac{2}{3}$ probability of getting the prize, while not switching gives you a $\\frac{1}{3}$ probability.  This tends to surprise people.  I think one of the reasons for this is that people misunderstand conditional probability, but there also seem to be deeper psychological reasons. In fact, this is a problem that cognitive psychologists like to study.  \n",
    "\n",
    "My purpose here is not to get into the psychology of the Monty Hall problem, but I want to code up the problem using Python and then simulate lots and lots of Monty Hall games (say, 100000 games).  By this we can estimate the true probability of winning the prize by always switching and we will see that the proportion of wins will be very close to $\\frac{2}{3}$ with the switching strategy and $\\frac{1}{3}$ otherwise.\n",
    "\n",
    "After running the simulation, I want to give a proof of the Monty Hall problem using a bit of probability theory.\n",
    "\n",
    "### 1. The logical explanation\n",
    "\n",
    "First let's give a relatively simple explanation why the optimal strategy in the Monty Hall problem is always switching."
   ]
  },
  {
   "cell_type": "code",
   "execution_count": 1,
   "metadata": {
    "collapsed": true
   },
   "outputs": [],
   "source": [
    "import numpy as np\n",
    "import random"
   ]
  },
  {
   "cell_type": "code",
   "execution_count": 2,
   "metadata": {},
   "outputs": [
    {
     "name": "stdout",
     "output_type": "stream",
     "text": [
      "[0 1 0 1 0] [2 2 2 0 2]\n"
     ]
    }
   ],
   "source": [
    "def prizedoor(n):\n",
    "    '''Given a positive integer n, return a random array of length n\n",
    "    where each entry is either 0, 1, or 2 representing a hidden \n",
    "    prize behind door 0, 1, or 2.  Run n simulations of the prizedoor.'''\n",
    "    \n",
    "    return np.random.randint(3, size = n)\n",
    "\n",
    "def initial_guess(n):\n",
    "    '''This function also returns a random array of length n consisting\n",
    "    of 0s, 1s, and 2s representing n simulations of contestants guessing\n",
    "    a door randomly.'''\n",
    "    \n",
    "    return np.random.randint(3, size = n)\n",
    "\n",
    "print( prizedoor(5), initial_guess(5) )"
   ]
  },
  {
   "cell_type": "markdown",
   "metadata": {},
   "source": [
    "Goat door"
   ]
  },
  {
   "cell_type": "code",
   "execution_count": 3,
   "metadata": {
    "collapsed": true
   },
   "outputs": [],
   "source": [
    "def goatdoor(prizedoors, guesses):\n",
    "    '''This function simulates opening a \"goat door\" for each prize door\n",
    "    and each guess.  The goat door should not be the prize door and should \n",
    "    be different from the contestant's guess.'''\n",
    "    \n",
    "    goatdoors = []\n",
    "    for pair in zip(prizedoors, guesses):\n",
    "        if pair[0] == pair[1]:\n",
    "            other_doors = [ d for d in [0,1,2] if d != pair[0] ]\n",
    "            goatdoors.append( random.choice(other_doors) )\n",
    "        else:\n",
    "            other_door = [ d for d in [0,1,2] if d not in (pair[0], pair[1]) ]\n",
    "            goatdoors.append( other_door[0] )\n",
    "        \n",
    "    return np.array(goatdoors)"
   ]
  },
  {
   "cell_type": "markdown",
   "metadata": {},
   "source": [
    "Switch guess"
   ]
  },
  {
   "cell_type": "code",
   "execution_count": 4,
   "metadata": {
    "collapsed": true
   },
   "outputs": [],
   "source": [
    "def switch_guess(guesses, goatdoors):\n",
    "    '''This function implements the strategy of always switching\n",
    "    a guess after a goat door is opened.'''\n",
    "    \n",
    "    switches = []\n",
    "    for pair in zip(guesses, goatdoors):\n",
    "        switch_door = [ d for d in [0,1,2] if d not in (pair[0], pair[1]) ]\n",
    "        switches.append( switch_door[0] )\n",
    "        \n",
    "    return np.array(switches)\n",
    "    "
   ]
  },
  {
   "cell_type": "markdown",
   "metadata": {},
   "source": [
    "Now let's simulate the game both with the strategy of switching and without the strategy of switching"
   ]
  },
  {
   "cell_type": "code",
   "execution_count": 5,
   "metadata": {},
   "outputs": [
    {
     "name": "stdout",
     "output_type": "stream",
     "text": [
      "Number of games:  100000\n",
      "Number of wins:   66601\n",
      "Win Percentage:   66.60%\n",
      "\n",
      "Number of games:  100000\n",
      "Number of wins:   33505\n",
      "Win Percentage:   33.51%\n"
     ]
    }
   ],
   "source": [
    "def run_monty(n, switch=True):\n",
    "    '''Simulate n Monty Hall games.  The default value of switch\n",
    "    represents the contestants always switching their initial guess.\n",
    "    Set switch=False to simulate the contestants not switching.'''\n",
    "    \n",
    "    prizedoors = prizedoor(n)\n",
    "    guesses = initial_guess(n)\n",
    "    goatdoors = goatdoor(prizedoors, guesses)\n",
    "    if switch:\n",
    "        contestantdoors = switch_guess(guesses, goatdoors)\n",
    "    else:\n",
    "        contestantdoors = guesses\n",
    "        \n",
    "    wins = 0\n",
    "    for pair in zip(prizedoors, contestantdoors):\n",
    "        if pair[0] == pair[1]:\n",
    "            wins += 1\n",
    "            \n",
    "    # print the relevant stats\n",
    "    print('Number of games: ', n)\n",
    "    print('Number of wins:  ', wins)\n",
    "    print('Win Percentage:   %.2f% %' % round(100 * wins / n, 2) )\n",
    "\n",
    "run_monty(100000, switch=True)\n",
    "print()\n",
    "run_monty(100000, switch=False)"
   ]
  },
  {
   "cell_type": "code",
   "execution_count": null,
   "metadata": {
    "collapsed": true
   },
   "outputs": [],
   "source": []
  },
  {
   "cell_type": "code",
   "execution_count": null,
   "metadata": {
    "collapsed": true
   },
   "outputs": [],
   "source": []
  }
 ],
 "metadata": {
  "kernelspec": {
   "display_name": "Python 3",
   "language": "python",
   "name": "python3"
  },
  "language_info": {
   "codemirror_mode": {
    "name": "ipython",
    "version": 3
   },
   "file_extension": ".py",
   "mimetype": "text/x-python",
   "name": "python",
   "nbconvert_exporter": "python",
   "pygments_lexer": "ipython3",
   "version": "3.6.1"
  }
 },
 "nbformat": 4,
 "nbformat_minor": 2
}
